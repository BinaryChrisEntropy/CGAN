{
 "cells": [
  {
   "cell_type": "code",
   "execution_count": 1,
   "metadata": {},
   "outputs": [],
   "source": [
    "import torch\n",
    "import torch.nn as nn\n",
    "import torchvision.transforms as transforms\n",
    "from torchvision import datasets\n",
    "from torch.utils import data\n",
    "import matplotlib.pyplot as plt\n",
    "import itertools\n",
    "from sklearn.metrics import accuracy_score"
   ]
  },
  {
   "cell_type": "code",
   "execution_count": 2,
   "metadata": {},
   "outputs": [
    {
     "data": {
      "text/plain": [
       "device(type='cuda')"
      ]
     },
     "execution_count": 2,
     "metadata": {},
     "output_type": "execute_result"
    }
   ],
   "source": [
    "device = torch.device(\"cuda\" if torch.cuda.is_available() else \"cpu\")\n",
    "device"
   ]
  },
  {
   "cell_type": "code",
   "execution_count": 3,
   "metadata": {},
   "outputs": [],
   "source": [
    "transform = transforms.Compose([transforms.ToTensor(), transforms.Normalize((.1307, ), (.3081, ))])\n",
    "train_data = datasets.MNIST(\"~/.pytorch\", transform=transform, download=True)\n",
    "test_data = datasets.MNIST(\"~/.pytorch\", train=False, transform=transform, download=True)"
   ]
  },
  {
   "cell_type": "code",
   "execution_count": 4,
   "metadata": {},
   "outputs": [],
   "source": [
    "class ConvNet(nn.Module):\n",
    "    def __init__(self):\n",
    "        super().__init__()\n",
    "        self.body = nn.Sequential(nn.Conv2d(1, 32, 3),\n",
    "                                  nn.MaxPool2d(2),\n",
    "                                  nn.ReLU(),\n",
    "                                  nn.Conv2d(32, 64, 3),\n",
    "                                  nn.MaxPool2d(2),\n",
    "                                  nn.ReLU(),\n",
    "                                  nn.Flatten())\n",
    "        \n",
    "        self.head = nn.Sequential(nn.Linear(1600, 512),\n",
    "                                  nn.ReLU(),\n",
    "                                  nn.Dropout(p=0.5),\n",
    "                                  nn.Linear(512, 10))\n",
    "    \n",
    "    def forward(self, x):\n",
    "        x = self.body(x)\n",
    "        x = self.head(x)\n",
    "        return x"
   ]
  },
  {
   "cell_type": "code",
   "execution_count": 5,
   "metadata": {},
   "outputs": [],
   "source": [
    "@torch.enable_grad()\n",
    "def update(model, data_loader, loss, opt):\n",
    "    device = next(model.parameters()).device\n",
    "    model.train()\n",
    "    \n",
    "    errors= []\n",
    "    for x, y in data_loader:\n",
    "        x = x.to(device)\n",
    "        y = y.to(device)\n",
    "        logits = model(x)\n",
    "        err = loss(logits, y) \n",
    "        errors.append(err)\n",
    "        \n",
    "        opt.zero_grad()\n",
    "        err.backward()\n",
    "        opt.step()\n",
    "    \n",
    "    return errors\n",
    "\n",
    "\n",
    "@torch.no_grad()\n",
    "def evaluate(model, data_loader, metric):\n",
    "    device = next(model.parameters()).device\n",
    "    model.eval()\n",
    "    \n",
    "    accuracies = []\n",
    "    for x, y in data_loader:\n",
    "        x = x.to(device)\n",
    "        y = y.to(device)\n",
    "        logits = model(x)\n",
    "        y_hat = torch.argmax(logits.cpu(), 1)\n",
    "        \n",
    "        acc = metric(y.cpu(), y_hat) \n",
    "        accuracies.append(acc)\n",
    "    \n",
    "    return accuracies"
   ]
  },
  {
   "cell_type": "code",
   "execution_count": 6,
   "metadata": {},
   "outputs": [],
   "source": [
    "class Grid():\n",
    "    def __init__(self, *params):\n",
    "        self.params = {}\n",
    "        for p in params:\n",
    "            self.params[p] = None\n",
    "\n",
    "    def add_values(self, key, values):\n",
    "        self.params[key] = values\n",
    "\n",
    "    def print_grid(self):\n",
    "        for key in self.params.keys():\n",
    "            print(key, end=\": \")\n",
    "            for val in self.params[key]:\n",
    "                print(val, end=\" \")\n",
    "            print()\n",
    "\n",
    "    def get_combo(self):\n",
    "        for item in itertools.product(*self.params.values()):\n",
    "            t = zip(self.params.keys(), item)\n",
    "            yield dict(t)"
   ]
  },
  {
   "cell_type": "code",
   "execution_count": 7,
   "metadata": {},
   "outputs": [
    {
     "name": "stdout",
     "output_type": "stream",
     "text": [
      "lr: 0.001 0.0001 \n",
      "nr_epochs: 10 \n",
      "batch_size: 64 \n",
      "{'lr': 0.001, 'nr_epochs': 10, 'batch_size': 64}\n",
      "{'lr': 0.0001, 'nr_epochs': 10, 'batch_size': 64}\n"
     ]
    }
   ],
   "source": [
    "hyper_params = Grid(\"lr\", \"nr_epochs\", \"batch_size\")\n",
    "hyper_params.add_values(\"lr\", [0.001, 0.0001])\n",
    "hyper_params.add_values(\"batch_size\", [64])\n",
    "hyper_params.add_values(\"nr_epochs\", [10])\n",
    "\n",
    "hyper_params.print_grid()\n",
    "for params in hyper_params.get_combo():\n",
    "    print(params)"
   ]
  },
  {
   "cell_type": "code",
   "execution_count": 8,
   "metadata": {},
   "outputs": [
    {
     "name": "stdout",
     "output_type": "stream",
     "text": [
      "------------------------------------------------------------\n",
      "Epoch: 1 \t  Params: lr: 0.001, batch_size: 64 \t Acc: 98.44745222929936%\n",
      "Epoch: 2 \t  Params: lr: 0.001, batch_size: 64 \t Acc: 98.8953025477707%\n",
      "Epoch: 3 \t  Params: lr: 0.001, batch_size: 64 \t Acc: 99.19386942675159%\n",
      "Epoch: 4 \t  Params: lr: 0.001, batch_size: 64 \t Acc: 99.19386942675159%\n",
      "Epoch: 5 \t  Params: lr: 0.001, batch_size: 64 \t Acc: 99.28343949044586%\n",
      "Epoch: 6 \t  Params: lr: 0.001, batch_size: 64 \t Acc: 99.03463375796179%\n",
      "Epoch: 7 \t  Params: lr: 0.001, batch_size: 64 \t Acc: 99.23367834394905%\n",
      "Epoch: 8 \t  Params: lr: 0.001, batch_size: 64 \t Acc: 99.15406050955414%\n",
      "Epoch: 9 \t  Params: lr: 0.001, batch_size: 64 \t Acc: 99.23367834394905%\n",
      "Epoch: 10 \t  Params: lr: 0.001, batch_size: 64 \t Acc: 99.17396496815286%\n",
      "------------------------------------------------------------\n",
      "Epoch: 1 \t  Params: lr: 0.0001, batch_size: 64 \t Acc: 97.22332802547771%\n",
      "Epoch: 2 \t  Params: lr: 0.0001, batch_size: 64 \t Acc: 98.19864649681529%\n",
      "Epoch: 3 \t  Params: lr: 0.0001, batch_size: 64 \t Acc: 98.56687898089172%\n",
      "Epoch: 4 \t  Params: lr: 0.0001, batch_size: 64 \t Acc: 98.72611464968153%\n",
      "Epoch: 5 \t  Params: lr: 0.0001, batch_size: 64 \t Acc: 98.8156847133758%\n",
      "Epoch: 6 \t  Params: lr: 0.0001, batch_size: 64 \t Acc: 98.93511146496814%\n",
      "Epoch: 7 \t  Params: lr: 0.0001, batch_size: 64 \t Acc: 99.04458598726114%\n",
      "Epoch: 8 \t  Params: lr: 0.0001, batch_size: 64 \t Acc: 99.06449044585987%\n",
      "Epoch: 9 \t  Params: lr: 0.0001, batch_size: 64 \t Acc: 99.13415605095541%\n",
      "Epoch: 10 \t  Params: lr: 0.0001, batch_size: 64 \t Acc: 99.15406050955414%\n"
     ]
    }
   ],
   "source": [
    "path = \"best_model.pt\"\n",
    "max_acc = 0\n",
    "\n",
    "criterion = nn.CrossEntropyLoss()\n",
    "\n",
    "for params in hyper_params.get_combo():\n",
    "    batch_size = params[\"batch_size\"]\n",
    "    lr = params[\"lr\"]\n",
    "    n_epochs = params[\"nr_epochs\"]\n",
    "    \n",
    "    net = ConvNet().to(device)\n",
    "    opt = torch.optim.Adam(net.parameters(), lr=lr)\n",
    "    train_loader = data.DataLoader(train_data, shuffle=True, batch_size=batch_size, num_workers=4)\n",
    "    test_loader = data.DataLoader(test_data, shuffle=False, batch_size=batch_size, num_workers=4)\n",
    "\n",
    "    print(\"--\"*40)\n",
    "    for epoch in range(n_epochs):\n",
    "        errors = update(net, train_loader, criterion, opt)\n",
    "        acc = evaluate(net, test_loader, accuracy_score)\n",
    "        avg_acc = sum(acc)/len(acc)\n",
    "        print(f\"Epoch: {epoch+1} \\t  Params: lr: {lr}, batch_size: {batch_size} \\t Acc: {avg_acc * 100}%\")\n",
    "        \n",
    "    \n",
    "        if avg_acc > max_acc:\n",
    "            max_acc = avg_acc\n",
    "            torch.save(net.state_dict(), path)"
   ]
  },
  {
   "cell_type": "code",
   "execution_count": null,
   "metadata": {},
   "outputs": [],
   "source": []
  }
 ],
 "metadata": {
  "kernelspec": {
   "display_name": "Python 3",
   "language": "python",
   "name": "python3"
  },
  "language_info": {
   "codemirror_mode": {
    "name": "ipython",
    "version": 3
   },
   "file_extension": ".py",
   "mimetype": "text/x-python",
   "name": "python",
   "nbconvert_exporter": "python",
   "pygments_lexer": "ipython3",
   "version": "3.7.6"
  }
 },
 "nbformat": 4,
 "nbformat_minor": 4
}
