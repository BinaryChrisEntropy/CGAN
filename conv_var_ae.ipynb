{
 "cells": [
  {
   "cell_type": "code",
   "execution_count": 111,
   "metadata": {},
   "outputs": [],
   "source": [
    "import torch\n",
    "import torch.nn as nn\n",
    "import torchvision.transforms as transforms\n",
    "from torchvision import datasets\n",
    "from torch.utils import data\n",
    "import matplotlib.pyplot as plt"
   ]
  },
  {
   "cell_type": "code",
   "execution_count": 112,
   "metadata": {},
   "outputs": [
    {
     "data": {
      "text/plain": [
       "device(type='cuda')"
      ]
     },
     "execution_count": 112,
     "metadata": {},
     "output_type": "execute_result"
    }
   ],
   "source": [
    "device = torch.device(\"cuda\" if torch.cuda.is_available() else \"cpu\")\n",
    "device"
   ]
  },
  {
   "cell_type": "code",
   "execution_count": 113,
   "metadata": {},
   "outputs": [],
   "source": [
    "batch_size = 64\n",
    "transform = transforms.Compose([transforms.ToTensor()])\n",
    "train_data = datasets.MNIST(\"~/.pytorch\", transform=transform, download=True)\n",
    "train_loader = data.DataLoader(train_data, shuffle=True, batch_size=batch_size, num_workers=4)"
   ]
  },
  {
   "cell_type": "code",
   "execution_count": 114,
   "metadata": {},
   "outputs": [
    {
     "data": {
      "text/plain": [
       "torch.Size([1, 28, 28])"
      ]
     },
     "execution_count": 114,
     "metadata": {},
     "output_type": "execute_result"
    }
   ],
   "source": [
    "train_data[0][0].size()"
   ]
  },
  {
   "cell_type": "code",
   "execution_count": 115,
   "metadata": {},
   "outputs": [],
   "source": [
    "@torch.enable_grad()\n",
    "def update(model, data_loader, loss, opt):\n",
    "    device = next(model.parameters()).device\n",
    "    model.train()\n",
    "    \n",
    "    errors= []\n",
    "    for x, _ in data_loader:\n",
    "        x = x.to(device)\n",
    "        y_hat, (mu, log_var) = model(x)\n",
    "        kld = -0.5 * torch.sum(1 + log_var - mu.pow(2) - log_var.exp())\n",
    "        l = loss(y_hat, x) \n",
    "        err = l + kld\n",
    "        errors.append(err)\n",
    "        \n",
    "        opt.zero_grad()\n",
    "        err.backward()\n",
    "        opt.step()\n",
    "    \n",
    "    return errors"
   ]
  },
  {
   "cell_type": "code",
   "execution_count": 116,
   "metadata": {},
   "outputs": [],
   "source": [
    "class AutoEncoder(nn.Module):\n",
    "    def __init__(self):\n",
    "        super().__init__()\n",
    "        self.encoder = nn.Sequential(nn.Conv2d(1, 32, 5),\n",
    "                                     nn.MaxPool2d(2),\n",
    "                                     nn.ReLU(),\n",
    "                                     nn.Conv2d(32, 64, 5),\n",
    "                                     nn.MaxPool2d(2),\n",
    "                                     nn.ReLU()\n",
    "                                    )\n",
    "        \n",
    "        \n",
    "        self.decoder = nn.Sequential(nn.ConvTranspose2d(64, 32, 6, stride=2),\n",
    "                                     nn.ReLU(),\n",
    "                                     nn.ConvTranspose2d(32, 1, 6, stride=2),\n",
    "                                     )\n",
    "    \n",
    "        self.mu = nn.Sequential(nn.Linear(64*4*4, 128))\n",
    "        self.sigma = nn.Sequential(nn.Linear(64*4*4, 128))\n",
    "        self.fc = nn.Sequential(nn.Linear(128, 64*4*4))\n",
    "    \n",
    "    \n",
    "    \n",
    "    def encode(self, x):\n",
    "        x = self.encoder(x)\n",
    "        x = x.view(-1, 64*4*4)\n",
    "        m = self.mu(x)\n",
    "        s = self.sigma(x)\n",
    "        return m, s\n",
    "        \n",
    "    def decode(self, x):\n",
    "        x = self.fc(x)\n",
    "        x = x.view(-1, 64, 4, 4)\n",
    "        x = self.decoder(x)\n",
    "        return x\n",
    "    \n",
    "    def forward(self, x):\n",
    "        m, s = self.encode(x)\n",
    "        z = self.sample(m, s)\n",
    "        o = self.decode(z)\n",
    "        return o, (m, s)\n",
    "    \n",
    "    def sample(self, mean, log_var):\n",
    "        std = torch.exp(0.5*log_var).to(device)\n",
    "        eps = torch.randn_like(std).to(device)\n",
    "        return mean + std * eps \n",
    " \n",
    "    @torch.no_grad()\n",
    "    def generate(self, mean=None, log_var=None):\n",
    "        if mean is None:\n",
    "            mean = torch.empty((64, 128)).uniform_(-0.01, 0.01).to(device)\n",
    "            \n",
    "        if log_var is None:\n",
    "            log_var = 0.\n",
    "            log_var = torch.ones((64, 128)).to(device) * log_var\n",
    "        \n",
    "        x = self.sample(mean, log_var)\n",
    "        x = self.decode(x)\n",
    "        return torch.sigmoid(x)\n",
    "    \n",
    "    @torch.no_grad()\n",
    "    def reconstruct(self, x):\n",
    "        m, s = self.encode(x)\n",
    "        return self.generate(m, s)"
   ]
  },
  {
   "cell_type": "code",
   "execution_count": 117,
   "metadata": {},
   "outputs": [],
   "source": [
    "model = AutoEncoder().to(device)"
   ]
  },
  {
   "cell_type": "code",
   "execution_count": 118,
   "metadata": {},
   "outputs": [],
   "source": [
    "n_epochs = 20\n",
    "lr = 1e-3\n",
    "\n",
    "criterion = nn.BCEWithLogitsLoss(reduction=\"sum\")\n",
    "opt = torch.optim.Adam(model.parameters(), lr=lr)"
   ]
  },
  {
   "cell_type": "code",
   "execution_count": 119,
   "metadata": {
    "scrolled": true
   },
   "outputs": [
    {
     "name": "stdout",
     "output_type": "stream",
     "text": [
      "Error: 9855.3427734375\n",
      "Error: 7334.064453125\n",
      "Error: 6989.8330078125\n",
      "Error: 6866.16064453125\n",
      "Error: 6797.99169921875\n",
      "Error: 6753.89697265625\n",
      "Error: 6716.4765625\n",
      "Error: 6686.578125\n",
      "Error: 6663.99072265625\n",
      "Error: 6636.798828125\n",
      "Error: 6620.998046875\n",
      "Error: 6605.38525390625\n",
      "Error: 6588.17236328125\n",
      "Error: 6575.80029296875\n",
      "Error: 6562.14599609375\n",
      "Error: 6552.357421875\n",
      "Error: 6543.0615234375\n",
      "Error: 6533.775390625\n",
      "Error: 6521.2529296875\n",
      "Error: 6516.2255859375\n"
     ]
    }
   ],
   "source": [
    "for epoch in range(n_epochs):\n",
    "    errors = update(model, train_loader, criterion, opt)\n",
    "    print(f\"Error: {sum(errors)/len(errors)}\")"
   ]
  },
  {
   "cell_type": "code",
   "execution_count": 122,
   "metadata": {},
   "outputs": [
    {
     "data": {
      "image/png": "[encoded data removed]",
      "text/plain": [
       "<Figure size 432x288 with 1 Axes>"
      ]
     },
     "metadata": {
      "needs_background": "light"
     },
     "output_type": "display_data"
    },
    {
     "name": "stdout",
     "output_type": "stream",
     "text": [
      "torch.Size([64, 1, 28, 28])\n"
     ]
    },
    {
     "data": {
      "image/png": "[encoded data removed]",
      "text/plain": [
       "<Figure size 432x288 with 1 Axes>"
      ]
     },
     "metadata": {
      "needs_background": "light"
     },
     "output_type": "display_data"
    }
   ],
   "source": [
    "# reconstruct\n",
    "for x, _ in train_loader:\n",
    "    x = x.to(device)\n",
    "    m, s = model.encode(x)\n",
    "    out = model.generate(m, s)\n",
    "    out = torch.sigmoid(out)\n",
    "    break\n",
    "    \n",
    "plt.imshow(out[10].view(28, 28).cpu().detach().numpy(), cmap=\"gray\")\n",
    "plt.show()\n",
    "\n",
    "print(x.size())\n",
    "plt.imshow(x[10].view(28, 28).cpu().detach().numpy(), cmap=\"gray\")\n",
    "plt.show()"
   ]
  },
  {
   "cell_type": "code",
   "execution_count": 129,
   "metadata": {},
   "outputs": [
    {
     "data": {
      "image/png": "[encoded data removed]",
      "text/plain": [
       "<Figure size 432x288 with 1 Axes>"
      ]
     },
     "metadata": {
      "needs_background": "light"
     },
     "output_type": "display_data"
    }
   ],
   "source": [
    "# generate a new digit\n",
    "samples = model.generate()\n",
    "plt.imshow(samples[0].view(28, 28).cpu().detach().numpy(), cmap=\"gray\")\n",
    "plt.show()"
   ]
  },
  {
   "cell_type": "code",
   "execution_count": null,
   "metadata": {},
   "outputs": [],
   "source": []
  }
 ],
 "metadata": {
  "kernelspec": {
   "display_name": "Python 3",
   "language": "python",
   "name": "python3"
  },
  "language_info": {
   "codemirror_mode": {
    "name": "ipython",
    "version": 3
   },
   "file_extension": ".py",
   "mimetype": "text/x-python",
   "name": "python",
   "nbconvert_exporter": "python",
   "pygments_lexer": "ipython3",
   "version": "3.7.6"
  }
 },
 "nbformat": 4,
 "nbformat_minor": 4
}
